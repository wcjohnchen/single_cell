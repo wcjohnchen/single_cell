{
 "cells": [
  {
   "cell_type": "markdown",
   "id": "0627cbaf-1f3e-4645-b8bf-16258c3016af",
   "metadata": {},
   "source": [
    "# scRNA-seq"
   ]
  },
  {
   "cell_type": "code",
   "execution_count": null,
   "id": "a94175a4-e1a3-4121-86dd-9a1946eb04f0",
   "metadata": {},
   "outputs": [],
   "source": [
    "import warnings\n",
    "warnings.filterwarnings('ignore')\n",
    "\n",
    "import os\n",
    "from pathlib import Path\n",
    "import scvi\n",
    "import scanpy as sc\n",
    "import pandas as pd\n",
    "import numpy as np\n",
    "from scipy.sparse import csr_matrix\n",
    "\n",
    "scvi.settings.seed = 30"
   ]
  },
  {
   "cell_type": "code",
   "execution_count": null,
   "id": "c6b6ed6b-fcd8-427e-8e12-da56358f2afa",
   "metadata": {},
   "outputs": [],
   "source": [
    "root_dir = "" ### <--- root directory path\n",
    "dir = Path(root_dir)\n",
    "ribo_url = \"http://software.broadinstitute.org/gsea/msigdb/download_geneset.jsp?geneSetName=KEGG_RIBOSOME&fileType=txt\""
   ]
  },
  {
   "cell_type": "code",
   "execution_count": null,
   "id": "b4038797-ffd3-4a06-8cb0-7059fd6572b9",
   "metadata": {},
   "outputs": [],
   "source": [
    "def doublet_detection(data, file):\n",
    "    scvi.model.SCVI.setup_anndata(data)\n",
    "    vae = scvi.model.SCVI(data) ### building a single-cell variational inference model for single-cell omics analysis\n",
    "    vae.train() ### training model.  (optional) modify parameter max_epochs\n",
    "    solo = scvi.external.SOLO.from_scvi_model(vae) ### buiding a SOLO model from the trained SCVI model, for doublet detection\n",
    "                                            ### assessing learning outcomes: extract learned representation and categorize by a classifier\n",
    "    solo.train() ### training model.  (optional) modify parameter max_epochs\n",
    "    df = solo.predict() ### predict doublets\n",
    "    \n",
    "    df['prediction'] = solo.predict(soft = False) ### make a new column to retain the labelled information\n",
    "    df.index = df.index.map(lambda x: x[:-2]) ### <--- may need to modify depending on index label\n",
    "    df['dif'] = df.doublet - df.singlet\n",
    "    doublets = df[(df.prediction == 'doublet') & (df.dif > ((max(df.dif))*0.90))] ### <--- setting threshold\n",
    "\n",
    "    data = sc.read_csv(file).T\n",
    "    data.obs['Sample'] = file.split('/')[7] ### <--- may need to modify the number for splitting \"/\" depending on directory path\n",
    "    data.obs['doublet'] = data.obs.index.isin(doublets.index)\n",
    "    data = data[~data.obs.doublet]\n",
    "    return data\n",
    "\n",
    "def processing(file):\n",
    "    data = sc.read_csv(file).T ### scanpy: row = cells, column = genes\n",
    "\n",
    "    ############################### remove genes that do not meet the required minium number of cells\n",
    "    sc.pp.filter_genes(data, min_cells = 10)\n",
    "\n",
    "    ############################### filter for top highly-variable genes\n",
    "    sc.pp.highly_variable_genes(data, n_top_genes = 2000, subset = True, flavor = 'seurat_v3')\n",
    "\n",
    "    ############################### perform doublet detection using predictive generative model with default parameters\n",
    "    data = doublet_detection(data, file) \n",
    "\n",
    "    ############################### remove cells that do not meet the required minium number of genes\n",
    "    sc.pp.filter_cells(data, min_genes=200)\n",
    "\n",
    "    ############################### filter for gene counts, remove mitochondrial genes and ribosomal genes\n",
    "    data.var['mt'] = data.var.index.str.startswith('MT-')\n",
    "    ribo_genes = pd.read_table(ribo_url, skiprows=2, header = None)\n",
    "    data.var['ribo'] = data.var_names.isin(ribo_genes[0].values)\n",
    "    sc.pp.calculate_qc_metrics(data, qc_vars=['mt', 'ribo'], percent_top=None, log1p=False, inplace=True)\n",
    "    upper_lim = np.quantile(data.obs.n_genes_by_counts.values, .98)\n",
    "    data = data[data.obs.n_genes_by_counts < upper_lim]\n",
    "    data = data[data.obs.pct_counts_mt < 20]\n",
    "    data = data[data.obs.pct_counts_ribo < 20]\n",
    "    return data"
   ]
  },
  {
   "cell_type": "code",
   "execution_count": null,
   "id": "0c08332a-7276-46db-923b-aed18c954c44",
   "metadata": {},
   "outputs": [],
   "source": [
    "############################### process data\n",
    "output=[]\n",
    "for folder in dir.rglob(\"*\"):\n",
    "    if folder.is_dir():\n",
    "        mat = os.path.join(root_dir, folder, 'matrix.csv')\n",
    "        output.append(processing(mat))\n",
    "\n",
    "############################### concatenate data\n",
    "dat = sc.concat(output)\n",
    "\n",
    "############################### filtering data\n",
    "sc.pp.filter_genes(dat, min_cells = 1000)\n",
    "sc.pp.highly_variable_genes(dat, n_top_genes = 2000, subset = True, flavor = 'seurat_v3')\n",
    "\n",
    "############################### save data as sparse matrix\n",
    "dat.X = csr_matrix(dat.X)\n",
    "dat.write_h5ad('scrnaseq_processed_data.h5ad')"
   ]
  }
 ],
 "metadata": {
  "kernelspec": {
   "display_name": "Python 3 (ipykernel)",
   "language": "python",
   "name": "python3"
  },
  "language_info": {
   "codemirror_mode": {
    "name": "ipython",
    "version": 3
   },
   "file_extension": ".py",
   "mimetype": "text/x-python",
   "name": "python",
   "nbconvert_exporter": "python",
   "pygments_lexer": "ipython3",
   "version": "3.12.4"
  }
 },
 "nbformat": 4,
 "nbformat_minor": 5
}
